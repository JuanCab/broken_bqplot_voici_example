{
 "cells": [
  {
   "cell_type": "markdown",
   "metadata": {},
   "source": [
    "# Test Notebook illustrating Bug in bqplot and voici\n",
    "\n",
    "When this Jupyter notebook is run in Voila, via the command line\n",
    "\n",
    "```bash\n",
    "voila webapp/index.ipynb\n",
    "```\n",
    " it works correctly. Specifically dragging the points on the plot not only updates the location of the point but the line connecting the points.\n",
    " \n",
    " However, if you create a static web app with Voici with the command:\n",
    " ```bash\n",
    "voici build --contents webapp\n",
    "```\n",
    "and serve the static output directory with the command:\n",
    "```bash\n",
    "python -m http.server 8000 --directory _output\n",
    "```\n",
    "The resulting `index.ipynb` page at [`http://localhost:8000/`](http://localhost:8000/) does NOT function properly.  You should be able to see that the background line connecting the points does not update when the scatter points are dragged."
   ]
  },
  {
   "cell_type": "code",
   "execution_count": null,
   "metadata": {},
   "outputs": [],
   "source": [
    "# Notebook to test Scatter and moving points in Voici\n",
    "\n",
    "from IPython.display import display\n",
    "import pandas as pd\n",
    "import numpy as np\n",
    "import bqplot as bq\n",
    "import ipywidgets as widgets"
   ]
  },
  {
   "cell_type": "markdown",
   "metadata": {},
   "source": []
  },
  {
   "cell_type": "code",
   "execution_count": null,
   "metadata": {},
   "outputs": [],
   "source": [
    "##\n",
    "## Define functions for interactive plot with moveable points\n",
    "##\n",
    "\n",
    "# Function to react to changes in the scatter plot\n",
    "def update_TP(change):\n",
    "    global TPline, TPscat\n",
    "\n",
    "    # update line on screen\n",
    "    TPline.y = TPscat.y\n",
    "\n",
    "##\n",
    "## Adjust scales/axes/tooltips as necessary from the previous plot\n",
    "##\n",
    "\n",
    "# Scales to transform the data\n",
    "min_lum = 10**-4\n",
    "max_lum = 10**4\n",
    "\n",
    "x_scale = bq.LinearScale(min =-1, max=2)\n",
    "y_scale = bq.LogScale(min = min_lum, max=max_lum)\n",
    "\n",
    "# Labels and scales for Axes\n",
    "ax_x = bq.Axis(label='X value', scale=x_scale, tick_format='.1f', num_ticks=7)\n",
    "ax_y = bq.Axis(label='Y value', scale=y_scale, orientation='vertical')\n",
    "\n",
    "# moving the label perpendicular to the axis\n",
    "ax_y.label_offset = '3em'\n",
    "\n",
    "# Create an editable line with scatter plot\n",
    "TPx = np.linspace(-0.5, 1.5, 11)\n",
    "TPy = np.ones_like(TPx)    # Initial flat TP curve\n",
    "opaque = np.ones_like(TPx) # Initial opacity of points\n",
    "\n",
    "# Create a scatter plot with editable points\n",
    "TPscat = bq.Scatter(x=TPx, y=TPy, color=None,\n",
    "                    marker='circle',\n",
    "                    scales={'x': x_scale, 'y': y_scale},\n",
    "                    default_size=50,\n",
    "                    colors=['darkturquoise'],\n",
    "                    default_opacities=opaque,\n",
    "                    enable_move=True, restrict_y = True, continuous_update=True)\n",
    "\n",
    "# Generate a line plot from the scatter plot\n",
    "TPline = bq.Lines(x=TPscat.x, y=TPscat.y,\n",
    "                  scales={'x': x_scale, 'y': y_scale},\n",
    "                  default_opacities=opaque,\n",
    "                  colors=['darkturquoise'])"
   ]
  },
  {
   "cell_type": "code",
   "execution_count": null,
   "metadata": {},
   "outputs": [],
   "source": [
    "## Create a test plot meant to allow user to move scatter plot\n",
    "## points around and have the line adjust to match the points\n",
    "\n",
    "# Create a Figure from the scatter plot and line\n",
    "test_figure = bq.Figure(axes=[ax_x, ax_y],\n",
    "                        marks=[TPline, TPscat],\n",
    "                        animation_duration = 250,\n",
    "                        title='Test Figure (Try Dragging Points)',\n",
    "                        background_style={'fill': 'black'},\n",
    "                        layout={'width': '400px', 'min_height': '400px'})\n",
    "\n",
    "# Observe the scatter plot points to see if I moved one\n",
    "TPscat.observe(update_TP, names=['y'])"
   ]
  },
  {
   "cell_type": "code",
   "execution_count": null,
   "metadata": {},
   "outputs": [],
   "source": [
    "display(test_figure)"
   ]
  }
 ],
 "metadata": {
  "kernelspec": {
   "display_name": "Python 3 (ipykernel)",
   "language": "python",
   "name": "python3"
  },
  "language_info": {
   "codemirror_mode": {
    "name": "ipython",
    "version": 3
   },
   "file_extension": ".py",
   "mimetype": "text/x-python",
   "name": "python",
   "nbconvert_exporter": "python",
   "pygments_lexer": "ipython3",
   "version": "3.12.4"
  }
 },
 "nbformat": 4,
 "nbformat_minor": 4
}
